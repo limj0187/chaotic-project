{
 "cells": [
  {
   "cell_type": "code",
   "execution_count": 8,
   "metadata": {},
   "outputs": [],
   "source": [
    "import tensorflow as tf\n",
    "import numpy\n",
    "import math\n",
    "import random"
   ]
  },
  {
   "cell_type": "markdown",
   "metadata": {},
   "source": [
    "data generation\n",
    "\n",
    "data = [colour, x_position, y_position]"
   ]
  },
  {
   "cell_type": "code",
   "execution_count": 9,
   "metadata": {
    "scrolled": true
   },
   "outputs": [],
   "source": [
    "data = numpy.array([random.randint(0,1),random.randint(0,100)/100,random.randint(0,100)/100])\n",
    "data = numpy.vstack((data,[0,random.randint(50,100)/100,random.randint(50,100)/100]))\n",
    "for i in range(49):\n",
    "    data =numpy.vstack((data,[1,random.randint(0,50)/100,random.randint(0,50)/100]))\n",
    "    data =numpy.vstack((data,[0,random.randint(50,100)/100,random.randint(50,100)/100]))"
   ]
  },
  {
   "cell_type": "code",
   "execution_count": 10,
   "metadata": {},
   "outputs": [],
   "source": [
    "def node(xpos,ypos,w1,w2):\n",
    "    out = xpos*w1 +ypos*w2\n",
    "    return sigmoid(out)\n",
    "\n",
    "def sigmoid(x):\n",
    "    return (1/(1+math.exp(x)))"
   ]
  },
  {
   "cell_type": "code",
   "execution_count": 11,
   "metadata": {},
   "outputs": [
    {
     "data": {
      "text/plain": [
       "'initialise the weights matrix'"
      ]
     },
     "execution_count": 11,
     "metadata": {},
     "output_type": "execute_result"
    }
   ],
   "source": [
    "'initialise the weights matrix'\n"
   ]
  }
 ],
 "metadata": {
  "kernelspec": {
   "display_name": "Python 3",
   "language": "python",
   "name": "python3"
  },
  "language_info": {
   "codemirror_mode": {
    "name": "ipython",
    "version": 3
   },
   "file_extension": ".py",
   "mimetype": "text/x-python",
   "name": "python",
   "nbconvert_exporter": "python",
   "pygments_lexer": "ipython3",
   "version": "3.6.5"
  }
 },
 "nbformat": 4,
 "nbformat_minor": 2
}
